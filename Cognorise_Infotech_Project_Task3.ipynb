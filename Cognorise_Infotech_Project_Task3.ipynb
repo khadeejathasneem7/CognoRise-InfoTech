{
  "nbformat": 4,
  "nbformat_minor": 0,
  "metadata": {
    "colab": {
      "provenance": [],
      "gpuType": "T4",
      "authorship_tag": "ABX9TyO9DFhMP3ov7JoFOnoYxnT9",
      "include_colab_link": true
    },
    "kernelspec": {
      "name": "python3",
      "display_name": "Python 3"
    },
    "language_info": {
      "name": "python"
    },
    "accelerator": "GPU"
  },
  "cells": [
    {
      "cell_type": "markdown",
      "metadata": {
        "id": "view-in-github",
        "colab_type": "text"
      },
      "source": [
        "<a href=\"https://colab.research.google.com/github/khadeejathasneem7/CognoRise-InfoTech/blob/main/Cognorise_Infotech_Project_Task3.ipynb\" target=\"_parent\"><img src=\"https://colab.research.google.com/assets/colab-badge.svg\" alt=\"Open In Colab\"/></a>"
      ]
    },
    {
      "cell_type": "markdown",
      "source": [
        "**Cognorise_Infotech_Project_Task3**\n",
        "\n",
        "**KHADEEJA THASNEEM**"
      ],
      "metadata": {
        "id": "F2G15N_kDstu"
      }
    },
    {
      "cell_type": "markdown",
      "source": [
        "#**DIGIT RECOGNIZER**\n",
        "● A digit recognition model is built using the MNIST dataset, which consists of 28x28 pixel grayscale images of handwritten digits (0-9).\n",
        "\n",
        "● The model is trained with convolutional neural network to classify the images into their respective digits."
      ],
      "metadata": {
        "id": "S3C_amqYD67d"
      }
    },
    {
      "cell_type": "code",
      "source": [
        "#Importing the sufficient python libraries\n",
        "import numpy as np\n",
        "import matplotlib.pyplot as plt\n",
        "import tensorflow as tf"
      ],
      "metadata": {
        "id": "k9feo9nH8-Ds"
      },
      "execution_count": 1,
      "outputs": []
    },
    {
      "cell_type": "code",
      "source": [
        "#Loading and preprocessing of the MNIST dataset\n",
        "from tensorflow.keras.datasets import mnist\n",
        "(train_images,train_labels),(test_images,test_labels)=mnist.load_data()"
      ],
      "metadata": {
        "id": "4435VnR2crzd",
        "colab": {
          "base_uri": "https://localhost:8080/",
          "height": 0
        },
        "outputId": "0c85b89b-f519-48b5-ca73-e543ad455c6e"
      },
      "execution_count": 2,
      "outputs": [
        {
          "output_type": "stream",
          "name": "stdout",
          "text": [
            "Downloading data from https://storage.googleapis.com/tensorflow/tf-keras-datasets/mnist.npz\n",
            "11490434/11490434 [==============================] - 0s 0us/step\n"
          ]
        }
      ]
    },
    {
      "cell_type": "code",
      "source": [
        "#Normalizing the pixel values to be between 0 and 1\n",
        "train_images=train_images.reshape((60000,28,28,1)).astype('float32')/255\n",
        "test_images=test_images.reshape((10000,28,28,1)).astype('float32')/255"
      ],
      "metadata": {
        "id": "c7neJo8Ycr19"
      },
      "execution_count": 3,
      "outputs": []
    },
    {
      "cell_type": "code",
      "source": [
        "#One-hot encoding the labels\n",
        "from tensorflow.keras.utils import to_categorical\n",
        "train_labels=to_categorical(train_labels)\n",
        "test_labels=to_categorical(test_labels)"
      ],
      "metadata": {
        "id": "gmjmLBuZcr4v"
      },
      "execution_count": 4,
      "outputs": []
    },
    {
      "cell_type": "code",
      "source": [
        "# Data augmentation\n",
        "from tensorflow.keras.preprocessing.image import ImageDataGenerator\n",
        "datagen=ImageDataGenerator(rotation_range=10,width_shift_range=0.1,\n",
        "                           height_shift_range=0.1,zoom_range=0.1)\n",
        "datagen.fit(train_images)"
      ],
      "metadata": {
        "id": "bWC7WPhJJArh"
      },
      "execution_count": 5,
      "outputs": []
    },
    {
      "cell_type": "code",
      "source": [
        "#Defining the CNN model\n",
        "from tensorflow.keras import layers, models\n",
        "model=models.Sequential([\n",
        "    layers.Conv2D(32,(3,3),activation='relu',input_shape=(28,28,1)),\n",
        "    layers.MaxPooling2D((2,2)),\n",
        "    layers.Conv2D(64,(3,3),activation='relu'),\n",
        "    layers.MaxPooling2D((2,2)),\n",
        "    layers.Conv2D(64,(3,3),activation='relu'),\n",
        "    layers.Flatten(),\n",
        "    layers.Dense(64,activation='relu'),\n",
        "    layers.Dense(10,activation='softmax')\n",
        "])"
      ],
      "metadata": {
        "id": "byGtisKWcr7M"
      },
      "execution_count": 6,
      "outputs": []
    },
    {
      "cell_type": "code",
      "source": [
        "#Compiling the model\n",
        "model.compile(optimizer='adam',\n",
        "              loss='categorical_crossentropy',\n",
        "              metrics=['accuracy'])"
      ],
      "metadata": {
        "id": "hBHVDE7tcr9t"
      },
      "execution_count": 7,
      "outputs": []
    },
    {
      "cell_type": "code",
      "source": [
        "#Training the model with data augmentation\n",
        "history=model.fit(datagen.flow(train_images,train_labels,batch_size=64),\n",
        "                  steps_per_epoch=len(train_images)/64,epochs=10)"
      ],
      "metadata": {
        "colab": {
          "base_uri": "https://localhost:8080/",
          "height": 0
        },
        "id": "HwWEsnNKcsAa",
        "outputId": "d7072a72-7706-4eb0-c8d4-b3c83f2434ee"
      },
      "execution_count": 8,
      "outputs": [
        {
          "output_type": "stream",
          "name": "stdout",
          "text": [
            "Epoch 1/10\n",
            "937/937 [==============================] - 28s 22ms/step - loss: 0.3537 - accuracy: 0.8877\n",
            "Epoch 2/10\n",
            "937/937 [==============================] - 20s 22ms/step - loss: 0.1104 - accuracy: 0.9662\n",
            "Epoch 3/10\n",
            "937/937 [==============================] - 20s 22ms/step - loss: 0.0844 - accuracy: 0.9745\n",
            "Epoch 4/10\n",
            "937/937 [==============================] - 21s 22ms/step - loss: 0.0679 - accuracy: 0.9789\n",
            "Epoch 5/10\n",
            "937/937 [==============================] - 20s 22ms/step - loss: 0.0583 - accuracy: 0.9820\n",
            "Epoch 6/10\n",
            "937/937 [==============================] - 19s 21ms/step - loss: 0.0525 - accuracy: 0.9840\n",
            "Epoch 7/10\n",
            "937/937 [==============================] - 20s 22ms/step - loss: 0.0480 - accuracy: 0.9851\n",
            "Epoch 8/10\n",
            "937/937 [==============================] - 20s 22ms/step - loss: 0.0428 - accuracy: 0.9863\n",
            "Epoch 9/10\n",
            "937/937 [==============================] - 19s 21ms/step - loss: 0.0397 - accuracy: 0.9880\n",
            "Epoch 10/10\n",
            "937/937 [==============================] - 20s 21ms/step - loss: 0.0364 - accuracy: 0.9879\n"
          ]
        }
      ]
    },
    {
      "cell_type": "code",
      "source": [
        "#Evaluating the model\n",
        "test_loss, test_acc = model.evaluate(test_images, test_labels)\n",
        "print('Test accuracy:', test_acc)"
      ],
      "metadata": {
        "colab": {
          "base_uri": "https://localhost:8080/",
          "height": 0
        },
        "id": "AS12YkQkc9J6",
        "outputId": "91b81b2c-4158-4eb0-87e3-e2aecc848bfa"
      },
      "execution_count": 9,
      "outputs": [
        {
          "output_type": "stream",
          "name": "stdout",
          "text": [
            "313/313 [==============================] - 1s 3ms/step - loss: 0.0257 - accuracy: 0.9923\n",
            "Test accuracy: 0.9922999739646912\n"
          ]
        }
      ]
    },
    {
      "cell_type": "code",
      "source": [
        "#Plotting the training history\n",
        "plt.plot(history.history['accuracy'],label='accuracy')\n",
        "plt.plot(history.history['loss'],label='loss')\n",
        "plt.xlabel('Epoch')\n",
        "plt.ylabel('Accuracy/Loss')\n",
        "plt.legend(loc='lower right')\n",
        "plt.show()"
      ],
      "metadata": {
        "colab": {
          "base_uri": "https://localhost:8080/",
          "height": 449
        },
        "id": "Kapkloy2KIDt",
        "outputId": "b11263fe-26ec-4ba6-a86c-f6c0de45c3e0"
      },
      "execution_count": 10,
      "outputs": [
        {
          "output_type": "display_data",
          "data": {
            "text/plain": [
              "<Figure size 640x480 with 1 Axes>"
            ],
            "image/png": "[encoded data removed]"
          },
          "metadata": {}
        }
      ]
    },
    {
      "cell_type": "code",
      "source": [
        "#Make predictions on a new image\n",
        "from PIL import Image\n",
        "img = Image.open(\"handwritten5.png\").convert(\"L\")  # Load the image from local storage\n",
        "img = img.resize((28, 28))  # Resize the image to match the input size expected by the model\n",
        "img_array = np.array(img) / 255.0  # Convert the image to a numpy array and normalize pixel values\n",
        "prediction=model.predict(img_array.reshape(1,28,28,1)).argmax(axis=1)\n",
        "print(\"Predicted digit:\", prediction[0])"
      ],
      "metadata": {
        "id": "1mCPxRDSb0SF",
        "colab": {
          "base_uri": "https://localhost:8080/",
          "height": 0
        },
        "outputId": "8b012eac-7299-456e-e65a-974fccc5a27d"
      },
      "execution_count": 11,
      "outputs": [
        {
          "output_type": "stream",
          "name": "stdout",
          "text": [
            "1/1 [==============================] - 0s 225ms/step\n",
            "Predicted digit: 5\n"
          ]
        }
      ]
    },
    {
      "cell_type": "code",
      "source": [
        "plt.imshow(img,cmap='gray')\n",
        "plt.show()"
      ],
      "metadata": {
        "colab": {
          "base_uri": "https://localhost:8080/",
          "height": 430
        },
        "id": "AWaxbLjh1Hqi",
        "outputId": "e6c78c32-b56b-4e36-ec30-db996f4ff668"
      },
      "execution_count": 12,
      "outputs": [
        {
          "output_type": "display_data",
          "data": {
            "text/plain": [
              "<Figure size 640x480 with 1 Axes>"
            ],
            "image/png": "[encoded data removed]"
          },
          "metadata": {}
        }
      ]
    },
    {
      "cell_type": "code",
      "source": [],
      "metadata": {
        "id": "1jSAW0JRb0bR"
      },
      "execution_count": 12,
      "outputs": []
    },
    {
      "cell_type": "code",
      "source": [],
      "metadata": {
        "id": "-TIGw9Wtb0eJ"
      },
      "execution_count": 12,
      "outputs": []
    }
  ]
}